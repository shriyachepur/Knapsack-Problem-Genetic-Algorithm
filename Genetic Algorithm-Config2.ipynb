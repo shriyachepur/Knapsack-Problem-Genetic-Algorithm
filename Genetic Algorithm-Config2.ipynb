{
 "cells": [
  {
   "cell_type": "code",
   "execution_count": 1,
   "metadata": {},
   "outputs": [],
   "source": [
    "import numpy as np\n",
    "import random\n",
    "import matplotlib.pyplot as plt"
   ]
  },
  {
   "cell_type": "code",
   "execution_count": 2,
   "metadata": {},
   "outputs": [],
   "source": [
    "def get_initial_population (config):\n",
    "    \"\"\"\n",
    "Populates variables from config and initialize P at gen 0.\n",
    "Parameters :\n",
    "config ( str): path to config file\n",
    "Returns :\n",
    "g (int): current generation\n",
    "P ( matrix or two D array ): population of individuals\n",
    "W (int): Knapsack capacity\n",
    "S ( list of tuples ): Each tuple is an item (w_i , v_i)\n",
    "stop ( int) : final generation ( stop condition )\n",
    "\"\"\"\n",
    "    np. random . seed (1470)\n",
    "# Populate the problem varibles\n",
    "    with open (config, 'r') as file :\n",
    "        lines = file . readlines ()\n",
    "    pop_size , n, stop , W = map(int , [ lines [i]. strip () for i in range (4) ])\n",
    "    S = [ tuple (map(int , line . strip (). split ())) for line in lines [4:]]\n",
    "# Initialize population at generation 0\n",
    "    g = 0\n",
    "    P = np. random . randint (2, size = ( pop_size , n))\n",
    "    return P, W, S, g, stop"
   ]
  },
  {
   "cell_type": "code",
   "execution_count": 3,
   "metadata": {},
   "outputs": [],
   "source": [
    "config = 'config_2.txt'"
   ]
  },
  {
   "cell_type": "code",
   "execution_count": 4,
   "metadata": {},
   "outputs": [],
   "source": [
    "P,W,S,g,stop=get_initial_population(config)"
   ]
  },
  {
   "cell_type": "code",
   "execution_count": 5,
   "metadata": {},
   "outputs": [],
   "source": [
    "def calc_fitness(P):\n",
    "    '''\n",
    "    calculates fitness using the fitness function of highest value. \n",
    "    If the weight in the knapsack exceeds the maximum weight, the fitness value is assigned as -1\n",
    "    '''\n",
    "    fitness=[]\n",
    "    weights=[]\n",
    "    for i in range(len(P)):\n",
    "        s=0\n",
    "        value=0\n",
    "        for j in range(len(P[0])):\n",
    "            if P[i][j]==1:\n",
    "                s=s+S[j][1]\n",
    "                value=value+S[j][0]\n",
    "        if s>W:\n",
    "            fitness.append(-1)\n",
    "        else:\n",
    "            fitness.append(value)\n",
    "            weights.append(s)\n",
    "    return np.array(fitness),np.array(weights)"
   ]
  },
  {
   "cell_type": "code",
   "execution_count": 6,
   "metadata": {},
   "outputs": [],
   "source": [
    "def selection_using_tournament(P,tournament_size=5):\n",
    "    '''\n",
    "    P - population\n",
    "    Instance is selected using tournament selection\n",
    "    Uses tournament selection with tournament size of 5\n",
    "    '''\n",
    "    random_selection=np.random.randint(0,len(P),5)\n",
    "    tourn_match=[]\n",
    "    for i in range(tournament_size):\n",
    "        tourn_match.append(P[random_selection[i]])\n",
    "    fitness,weights=calc_fitness(tourn_match)\n",
    "    return tourn_match[fitness.argmax()]"
   ]
  },
  {
   "cell_type": "code",
   "execution_count": 7,
   "metadata": {},
   "outputs": [],
   "source": [
    "def selection_using_roulette(P):\n",
    "    '''\n",
    "    P - population\n",
    "    Instance is selected using roulette wheel selection\n",
    "    '''\n",
    "    fitness,weights=calc_fitness(P)\n",
    "    s=0\n",
    "    for i in fitness:\n",
    "        if i>=0:\n",
    "            s=s+i\n",
    "    probs=[]\n",
    "    for i in range(len(fitness)):\n",
    "        if fitness[i]!=-1:\n",
    "            probs.append(float(fitness[i]/s))\n",
    "        else:\n",
    "            probs.append(0)\n",
    "    selected= random.choices(P, probs)[0]\n",
    "    return selected"
   ]
  },
  {
   "cell_type": "code",
   "execution_count": 8,
   "metadata": {},
   "outputs": [],
   "source": [
    "def reproduction(a,b,index):\n",
    "    '''\n",
    "    a - instance 1\n",
    "    b - instance 2\n",
    "    index - index for single point crossover\n",
    "    '''\n",
    "    baby_a = np.concatenate((a[:index], b[index:]))\n",
    "    baby_b = np.concatenate((b[:index], a[index:]))\n",
    "    return baby_a,baby_b"
   ]
  },
  {
   "cell_type": "code",
   "execution_count": 9,
   "metadata": {},
   "outputs": [],
   "source": [
    "def mutation(P):\n",
    "    '''\n",
    "    P - population\n",
    "    '''\n",
    "    index=np.random.randint(0,len(P[0]))\n",
    "    instance=np.random.randint(0,len(P))\n",
    "    if P[instance][index]==0:\n",
    "        P[instance][index]=1\n",
    "    else:\n",
    "        P[instance][index]=0\n",
    "    return P"
   ]
  },
  {
   "cell_type": "markdown",
   "metadata": {},
   "source": [
    "**Question 2 and 3**\n",
    "\n",
    "Selection, Crossover and Mutation"
   ]
  },
  {
   "cell_type": "code",
   "execution_count": 10,
   "metadata": {},
   "outputs": [
    {
     "name": "stdout",
     "output_type": "stream",
     "text": [
      "Choose option:\n",
      "1)Selection only\n",
      "2)Crossover\n",
      "1\n"
     ]
    }
   ],
   "source": [
    "n=int(input(\"Choose option:\\n1)Selection only\\n2)Crossover\\n\"))"
   ]
  },
  {
   "cell_type": "code",
   "execution_count": 11,
   "metadata": {},
   "outputs": [
    {
     "name": "stdout",
     "output_type": "stream",
     "text": [
      "Choose to activate mutation function\n",
      "1)Yes\n",
      "2)No\n",
      "2\n"
     ]
    }
   ],
   "source": [
    "m=int(input(\"Choose to activate mutation function\\n1)Yes\\n2)No\\n\"))"
   ]
  },
  {
   "cell_type": "code",
   "execution_count": 12,
   "metadata": {},
   "outputs": [],
   "source": [
    "def tournament(P,n,m):\n",
    "    '''\n",
    "    Using tournament selection - if the option is only selection, only selection operation is performed. \n",
    "    If we choose to perform reproduction operation, crossover is performed\n",
    "    Similarly we can choose if we want to perform mutation\n",
    "    P - population\n",
    "    n- user selected choice (performs either just selection or crossover)\n",
    "    m - user selected choice (either to perform mutation or not)\n",
    "    \n",
    "    '''\n",
    "    g=0\n",
    "    Pop_array_tourn=[]\n",
    "    Pop_array_tourn.append(P)\n",
    "    Fit_tourn=[]\n",
    "    Weight_tourn=[]\n",
    "    while g<stop:\n",
    "        pop=[]\n",
    "        for i in range(len(P)//2):\n",
    "            p1=selection_using_tournament(Pop_array_tourn[g],tournament_size=5)\n",
    "            p2=selection_using_tournament(Pop_array_tourn[g],tournament_size=5)\n",
    "            if n==1:\n",
    "                #directly appends selected instances\n",
    "                pop.append(p1)\n",
    "                pop.append(p2)\n",
    "            if n==2:\n",
    "                #performs crossover and appends the child instances\n",
    "                index=np.random.randint(0,len(P[0]))\n",
    "                a,b=reproduction(p1,p1,index)\n",
    "                pop.append(a)\n",
    "                pop.append(b)\n",
    "        if m==1:\n",
    "            pop=mutation(pop)\n",
    "        Pop_array_tourn.append(pop)\n",
    "        fit,weight=calc_fitness(pop)\n",
    "        Fit_tourn.append(fit)\n",
    "        Weight_tourn.append(weight)\n",
    "        g=g+1\n",
    "    avg_tourn=[]\n",
    "    for i in Fit_tourn:\n",
    "        avg=sum(i)/len(i)\n",
    "        avg_tourn.append(avg)\n",
    "    return Pop_array_tourn,Fit_tourn,avg_tourn,Weight_tourn"
   ]
  },
  {
   "cell_type": "code",
   "execution_count": 13,
   "metadata": {},
   "outputs": [],
   "source": [
    "def display_tourn():\n",
    "    gen = list(range(len(avg_tourn)))\n",
    "    plt.plot(gen, avg_tourn, marker='o', linestyle='-', color='b')\n",
    "    plt.xlabel('Generation')\n",
    "    plt.ylabel('Average Fitness')\n",
    "    plt.title('Plot of average population fitness of generation using tournament selection')\n",
    "    plt.grid(True)\n",
    "    plt.show()"
   ]
  },
  {
   "cell_type": "code",
   "execution_count": 14,
   "metadata": {},
   "outputs": [],
   "source": [
    "Pop_array_tourn,Fit_tourn,avg_tourn,w=tournament(P,n,m)"
   ]
  },
  {
   "cell_type": "code",
   "execution_count": 15,
   "metadata": {},
   "outputs": [
    {
     "data": {
      "image/png": "[encoded data removed]",
      "text/plain": [
       "<Figure size 432x288 with 1 Axes>"
      ]
     },
     "metadata": {
      "needs_background": "light"
     },
     "output_type": "display_data"
    }
   ],
   "source": [
    "display_tourn()"
   ]
  },
  {
   "cell_type": "code",
   "execution_count": 17,
   "metadata": {},
   "outputs": [
    {
     "name": "stdout",
     "output_type": "stream",
     "text": [
      "Choose option:\n",
      "1)Selection only\n",
      "2)Crossover\n",
      "1\n"
     ]
    }
   ],
   "source": [
    "a=int(input(\"Choose option:\\n1)Selection only\\n2)Crossover\\n\"))"
   ]
  },
  {
   "cell_type": "code",
   "execution_count": 18,
   "metadata": {},
   "outputs": [
    {
     "name": "stdout",
     "output_type": "stream",
     "text": [
      "Choose to activate mutation function\n",
      "1)Yes\n",
      "2)No\n",
      "2\n"
     ]
    }
   ],
   "source": [
    "b=int(input(\"Choose to activate mutation function\\n1)Yes\\n2)No\\n\"))"
   ]
  },
  {
   "cell_type": "code",
   "execution_count": 19,
   "metadata": {},
   "outputs": [],
   "source": [
    "\n",
    "def roulette(P,n,m):\n",
    "    '''\n",
    "    Using roulette wheel selection - if the option is only selection, only selection operation is performed. \n",
    "    If we choose to perform reproduction operation, crossover is performed\n",
    "    Similarly we can choose if we want to perform mutation\n",
    "    P - population\n",
    "    n- user selected choice (performs either just selection or crossover)\n",
    "    m - user selected choice (either to perform mutation or not)\n",
    "    '''\n",
    "    g=0\n",
    "    Pop_array_roulette=[]\n",
    "    Pop_array_roulette.append(P)\n",
    "    Fit_roulette=[]\n",
    "    avg_roulette=[]\n",
    "    weight_roulette=[]\n",
    "    while g<stop:\n",
    "        pop=[]\n",
    "        for i in range(len(P)//2):\n",
    "            p1=selection_using_roulette(Pop_array_roulette[g])\n",
    "            p2=selection_using_roulette(Pop_array_roulette[g])\n",
    "            if n==1:\n",
    "                pop.append(p1)\n",
    "                pop.append(p2)\n",
    "            if n==2:\n",
    "                index=np.random.randint(0,len(P[0]))\n",
    "                a,b=reproduction(p1,p1,index)\n",
    "                pop.append(a)\n",
    "                pop.append(b)\n",
    "        if m==1:\n",
    "            pop=mutation(pop)\n",
    "        Pop_array_roulette.append(pop)\n",
    "        fit,weight=calc_fitness(pop)\n",
    "        Fit_roulette.append(fit)\n",
    "        weight_roulette.append(weight)\n",
    "        g=g+1\n",
    "    for i in Fit_roulette:\n",
    "        avg=sum(i)/len(i)\n",
    "        avg_roulette.append(avg)\n",
    "    return Pop_array_roulette,Fit_roulette,avg_roulette,weight_roulette"
   ]
  },
  {
   "cell_type": "code",
   "execution_count": 20,
   "metadata": {},
   "outputs": [],
   "source": [
    "def display_roulette():\n",
    "    gen = list(range(len(avg_roulette)))\n",
    "    plt.plot(gen, avg_roulette, marker='o', linestyle='-', color='b')\n",
    "    plt.xlabel('Generation')\n",
    "    plt.ylabel('Average Fitness')\n",
    "    plt.title('Plot of average population fitness of generation using roulette selection')\n",
    "    plt.grid(True)\n",
    "    plt.show()"
   ]
  },
  {
   "cell_type": "code",
   "execution_count": 21,
   "metadata": {},
   "outputs": [],
   "source": [
    "Pop_array_roulette,Fit_roulette,avg_roulette,weight_roulette=roulette(P,n,m)"
   ]
  },
  {
   "cell_type": "code",
   "execution_count": 22,
   "metadata": {},
   "outputs": [
    {
     "data": {
      "image/png": "[encoded data removed]",
      "text/plain": [
       "<Figure size 432x288 with 1 Axes>"
      ]
     },
     "metadata": {
      "needs_background": "light"
     },
     "output_type": "display_data"
    }
   ],
   "source": [
    "display_roulette()"
   ]
  },
  {
   "cell_type": "code",
   "execution_count": 23,
   "metadata": {},
   "outputs": [],
   "source": [
    "def active_gene_tourn():\n",
    "    '''\n",
    "    shows the number of active genes in the fittest individual of every generation\n",
    "    uses tournament selection\n",
    "    '''\n",
    "    gen = list(range(len(avg_tourn)))\n",
    "    A=[]\n",
    "    A=np.argmax(Fit_tourn, axis=1)\n",
    "    num_of_active_indiv_tourn=[]\n",
    "    for i in range(len(Pop_array_tourn)-1):\n",
    "        active=sum(Pop_array_tourn[i][A[i]])\n",
    "        num_of_active_indiv_tourn.append(active)\n",
    "    plt.plot(gen, num_of_active_indiv_tourn, marker='o', linestyle='-', color='b')\n",
    "    plt.xlabel('Generation')\n",
    "    plt.ylabel('num_of_active_indiv_tourn')\n",
    "    plt.title('Plot of number of active genes in the fittest indiv of generation using tournament selection')\n",
    "    plt.grid(True)\n",
    "    plt.show()\n"
   ]
  },
  {
   "cell_type": "code",
   "execution_count": 24,
   "metadata": {},
   "outputs": [],
   "source": [
    "def active_gene_roulette():\n",
    "    '''\n",
    "    shows the number of active genes in the fittest individual of every generation\n",
    "    uses roulette wheel selection\n",
    "    '''\n",
    "    gen = list(range(len(avg_roulette)))\n",
    "    B = []\n",
    "    B = np.argmax(Fit_roulette, axis=1)\n",
    "    num_of_active_indiv_roulette=[]\n",
    "    for i in range(len(Pop_array_roulette)-1):\n",
    "        active=sum(Pop_array_roulette[i][B[i]])\n",
    "        num_of_active_indiv_roulette.append(active)\n",
    "    plt.plot(gen, num_of_active_indiv_roulette, marker='o', linestyle='-', color='b')\n",
    "    plt.xlabel('Generation')\n",
    "    plt.ylabel('num_of_active_indiv_roulette')\n",
    "    plt.title('Plot of number of active genes in the fittest indiv of generation using roulette selection')\n",
    "    plt.grid(True)\n",
    "    plt.show()"
   ]
  },
  {
   "cell_type": "code",
   "execution_count": 25,
   "metadata": {},
   "outputs": [
    {
     "data": {
      "image/png": "[encoded data removed]",
      "text/plain": [
       "<Figure size 432x288 with 1 Axes>"
      ]
     },
     "metadata": {
      "needs_background": "light"
     },
     "output_type": "display_data"
    }
   ],
   "source": [
    "active_gene_roulette()"
   ]
  },
  {
   "cell_type": "code",
   "execution_count": 26,
   "metadata": {},
   "outputs": [],
   "source": [
    "#For different population sizes\n",
    "def get_initial_population_diff_sizes(config,x):\n",
    "    \"\"\"\n",
    "Populates variables from config and initialize P at gen 0.\n",
    "Parameters :\n",
    "config ( str): path to config file\n",
    "Returns :\n",
    "g (int): current generation\n",
    "P ( matrix or two D array ): population of individuals\n",
    "W (int): Knapsack capacity\n",
    "S ( list of tuples ): Each tuple is an item (w_i , v_i)\n",
    "stop ( int) : final generation ( stop condition )\n",
    "\"\"\"\n",
    "    np. random . seed (1470)\n",
    "# Populate the problem varibles\n",
    "    with open (config, 'r') as file :\n",
    "        lines = file . readlines ()\n",
    "    pop_size , n, stop , W = map(int , [ lines [i]. strip () for i in range (4) ])\n",
    "    S = [ tuple (map(int , line . strip (). split ())) for line in lines [4:]]\n",
    "# Initialize population at generation 0\n",
    "    g = 0\n",
    "    P = np. random . randint (2, size = (x, n))\n",
    "    return P, W, S, g, stop"
   ]
  },
  {
   "cell_type": "code",
   "execution_count": 27,
   "metadata": {},
   "outputs": [],
   "source": [
    "P1, W, S, g, stop= get_initial_population_diff_sizes(config,50)"
   ]
  },
  {
   "cell_type": "code",
   "execution_count": 28,
   "metadata": {},
   "outputs": [],
   "source": [
    "Pop_array_tourn,Fit_tourn,avg_tourn,w=tournament(P1,n,m)"
   ]
  },
  {
   "cell_type": "code",
   "execution_count": 29,
   "metadata": {},
   "outputs": [
    {
     "data": {
      "text/plain": [
       "array([2290, 2290, 2290, 2290, 2290, 2290, 2290, 2290, 2290, 2290, 2290,\n",
       "       2290, 2290, 2290, 2290, 2290, 2290, 2290, 2290, 2290, 2290, 2290,\n",
       "       2290, 2290, 2290, 2290, 2290, 2290, 2290, 2290, 2290, 2290, 2290,\n",
       "       2290, 2290, 2290, 2290, 2290, 2290, 2290, 2290, 2290, 2290, 2290,\n",
       "       2290, 2290, 2290, 2290, 2290, 2290])"
      ]
     },
     "execution_count": 29,
     "metadata": {},
     "output_type": "execute_result"
    }
   ],
   "source": [
    "w[27]"
   ]
  },
  {
   "cell_type": "code",
   "execution_count": 30,
   "metadata": {},
   "outputs": [
    {
     "data": {
      "text/plain": [
       "array([25043, 25043, 25043, 25043, 25043, 25043, 25043, 25043, 25043,\n",
       "       25043, 25043, 25043, 25043, 25043, 25043, 25043, 25043, 25043,\n",
       "       25043, 25043, 25043, 25043, 25043, 25043, 25043, 25043, 25043,\n",
       "       25043, 25043, 25043, 25043, 25043, 25043, 25043, 25043, 25043,\n",
       "       25043, 25043, 25043, 25043, 25043, 25043, 25043, 25043, 25043,\n",
       "       25043, 25043, 25043, 25043, 25043])"
      ]
     },
     "execution_count": 30,
     "metadata": {},
     "output_type": "execute_result"
    }
   ],
   "source": [
    "Fit_tourn[27]"
   ]
  },
  {
   "cell_type": "code",
   "execution_count": 31,
   "metadata": {},
   "outputs": [
    {
     "data": {
      "image/png": "[encoded data removed]",
      "text/plain": [
       "<Figure size 432x288 with 1 Axes>"
      ]
     },
     "metadata": {
      "needs_background": "light"
     },
     "output_type": "display_data"
    }
   ],
   "source": [
    "active_gene_tourn()"
   ]
  },
  {
   "cell_type": "code",
   "execution_count": 31,
   "metadata": {},
   "outputs": [
    {
     "name": "stdout",
     "output_type": "stream",
     "text": [
      "Selected items: [[1 1 1 1 1 1 1 1 1 1 1 1 1 1 1 1 1 1 1 1 0 0 0 0 0 0 0 0 0 0 0 0 0 0 0 0\n",
      "  0 0 0 0 0 0 0 0 0 0 0 0 0 0 0 0 0 0 0 0 0 0 0 0 0 0 0 0 0 0 0 0 0 0 0 0\n",
      "  0 0 0 0 0 0 0 0 0 0 0 0 0 0 0 0 0 0 0 0 0 0 0 0 0 0 0 0]]\n",
      "Total value: 1266.0\n"
     ]
    }
   ],
   "source": [
    "import numpy as np\n",
    "\n",
    "def knapsack_greedy(S, W):\n",
    "    \"\"\"\n",
    "    Greedy algorithm to solve the 0/1 knapsack problem.\n",
    "\n",
    "    Parameters:\n",
    "    S (list): List of tuples (weight, value) for each item.\n",
    "    W (float): Maximum capacity of the knapsack.\n",
    "\n",
    "    Returns:\n",
    "    selected_items (list): Binary array indicating selected items (1 for selected, 0 for not selected).\n",
    "    total_value (float): Total value of selected items.\n",
    "    \"\"\"\n",
    "\n",
    "    # Remove items with zero weight to avoid division by zero\n",
    "    S = [(weight, value) for weight, value in S if weight != 0]\n",
    "\n",
    "    # Sort items by value-to-weight ratio in descending order\n",
    "    sorted_items = sorted(S, key=lambda x: x[1] / x[0], reverse=True)\n",
    "\n",
    "    selected_items = [0] * len(S)\n",
    "    total_weight, total_value = 0.0, 0.0\n",
    "\n",
    "    for i in range(len(sorted_items)):\n",
    "        weight, value = sorted_items[i]\n",
    "\n",
    "        if total_weight + weight <= W:\n",
    "            selected_items[i] = 1\n",
    "            total_weight += weight\n",
    "            total_value += value\n",
    "\n",
    "    # Convert the selected_items list to a numpy array\n",
    "    selected_items = np.array(selected_items).reshape(1, -1)\n",
    "\n",
    "    return selected_items, total_value\n",
    "\n",
    "\n",
    "selected_items, total_value = knapsack_greedy(S,W)\n",
    "print(\"Selected items:\", selected_items)\n",
    "print(\"Total value:\", total_value)\n"
   ]
  },
  {
   "cell_type": "code",
   "execution_count": null,
   "metadata": {},
   "outputs": [],
   "source": []
  }
 ],
 "metadata": {
  "kernelspec": {
   "display_name": "Python 3",
   "language": "python",
   "name": "python3"
  },
  "language_info": {
   "codemirror_mode": {
    "name": "ipython",
    "version": 3
   },
   "file_extension": ".py",
   "mimetype": "text/x-python",
   "name": "python",
   "nbconvert_exporter": "python",
   "pygments_lexer": "ipython3",
   "version": "3.8.10"
  }
 },
 "nbformat": 4,
 "nbformat_minor": 4
}
